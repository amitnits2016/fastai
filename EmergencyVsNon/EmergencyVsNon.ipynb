{
  "nbformat": 4,
  "nbformat_minor": 0,
  "metadata": {
    "colab": {
      "name": "EmergencyVsNon.ipynb",
      "provenance": [],
      "collapsed_sections": [],
      "mount_file_id": "1F0cjtKaPjvAe410qiC45-dxghfCvM53y",
      "authorship_tag": "ABX9TyNR70ILn/nZqzP1ShfxbHlG",
      "include_colab_link": true
    },
    "kernelspec": {
      "name": "python3",
      "display_name": "Python 3"
    },
    "accelerator": "GPU"
  },
  "cells": [
    {
      "cell_type": "markdown",
      "metadata": {
        "id": "view-in-github",
        "colab_type": "text"
      },
      "source": [
        "<a href=\"https://colab.research.google.com/github/amitnits2016/fastai/blob/master/EmergencyVsNon/EmergencyVsNon.ipynb\" target=\"_parent\"><img src=\"https://colab.research.google.com/assets/colab-badge.svg\" alt=\"Open In Colab\"/></a>"
      ]
    }
  ]
}